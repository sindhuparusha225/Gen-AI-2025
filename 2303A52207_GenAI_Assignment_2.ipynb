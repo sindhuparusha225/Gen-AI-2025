{
  "nbformat": 4,
  "nbformat_minor": 0,
  "metadata": {
    "colab": {
      "provenance": [],
      "authorship_tag": "ABX9TyPeKEOGM3YkgnhSuLERSrZB",
      "include_colab_link": true
    },
    "kernelspec": {
      "name": "python3",
      "display_name": "Python 3"
    },
    "language_info": {
      "name": "python"
    }
  },
  "cells": [
    {
      "cell_type": "markdown",
      "metadata": {
        "id": "view-in-github",
        "colab_type": "text"
      },
      "source": [
        "<a href=\"https://colab.research.google.com/github/sindhuparusha225/Gen-AI-2025/blob/main/GenAI_Assignment_2.ipynb\" target=\"_parent\"><img src=\"https://colab.research.google.com/assets/colab-badge.svg\" alt=\"Open In Colab\"/></a>"
      ]
    },
    {
      "cell_type": "markdown",
      "source": [
        "1."
      ],
      "metadata": {
        "id": "iPy69BAMioqu"
      }
    },
    {
      "cell_type": "code",
      "source": [
        "import numpy as np\n",
        "from scipy.optimize import linprog\n"
      ],
      "metadata": {
        "id": "pRFfI7i-nOci"
      },
      "execution_count": 1,
      "outputs": []
    },
    {
      "cell_type": "code",
      "source": [
        "c = [-6, -5]  # Negative since linprog minimizes"
      ],
      "metadata": {
        "id": "0MaZ93gUnRuv"
      },
      "execution_count": 2,
      "outputs": []
    },
    {
      "cell_type": "code",
      "source": [
        "A = [[1, 1], [3, 2]]"
      ],
      "metadata": {
        "id": "HuUJ5Wx1nz_B"
      },
      "execution_count": 3,
      "outputs": []
    },
    {
      "cell_type": "code",
      "source": [
        "b = [5, 12]"
      ],
      "metadata": {
        "id": "edQSnCe7n5p-"
      },
      "execution_count": 4,
      "outputs": []
    },
    {
      "cell_type": "code",
      "source": [
        "x_bounds = (0, None)\n",
        "y_bounds = (0, None)"
      ],
      "metadata": {
        "id": "1wU2RjHin7wH"
      },
      "execution_count": 5,
      "outputs": []
    },
    {
      "cell_type": "code",
      "source": [
        "result = linprog(c, A_ub=A, b_ub=b, bounds=[x_bounds, y_bounds])"
      ],
      "metadata": {
        "id": "UdlQcJkEoAdB"
      },
      "execution_count": 6,
      "outputs": []
    },
    {
      "cell_type": "code",
      "source": [
        "if result.success:\n",
        "    print(\"Optimal solution found:\")\n",
        "    print(\"Number of units of chocolate A:\", round(result.x[0]))\n",
        "    print(\"Number of units of chocolate B:\", round(result.x[1]))\n",
        "    print(\"Maximum profit:\", -round(result.fun))  # Negate the objective function value as linprog minimizes\n",
        "else:\n",
        "    print(\"No optimal solution found.\")"
      ],
      "metadata": {
        "colab": {
          "base_uri": "https://localhost:8080/"
        },
        "id": "7sXzR4W9oCoK",
        "outputId": "d9dfb984-02b2-4dd0-f3e7-28f9d36e36d1"
      },
      "execution_count": 7,
      "outputs": [
        {
          "output_type": "stream",
          "name": "stdout",
          "text": [
            "Optimal solution found:\n",
            "Number of units of chocolate A: 2\n",
            "Number of units of chocolate B: 3\n",
            "Maximum profit: 27\n"
          ]
        }
      ]
    },
    {
      "cell_type": "markdown",
      "source": [
        "2."
      ],
      "metadata": {
        "id": "HTu9uvBSoUrA"
      }
    },
    {
      "cell_type": "code",
      "source": [
        "# prompt: Genertae the code\n",
        "\n",
        "import numpy as np\n",
        "from scipy.optimize import linprog\n",
        "\n",
        "# Define the objective function coefficients (profit for each crop)\n",
        "c = [-50, -120]  # Negative since linprog minimizes\n",
        "\n",
        "# Define the inequality constraint matrix (cost, land, labor)\n",
        "A = [[7000, 2000], [1, 1], [10, 30]]\n",
        "\n",
        "# Define the inequality constraint vector (budget, land, labor)\n",
        "b = [700000, 110, 1200]\n",
        "\n",
        "# Define the bounds for the area of each crop (non-negative)\n",
        "x_bounds = (0, None)\n",
        "y_bounds = (0, None)\n",
        "\n",
        "# Solve the linear programming problem\n",
        "result = linprog(c, A_ub=A, b_ub=b, bounds=[x_bounds, y_bounds])\n",
        "\n",
        "# Print the results\n",
        "if result.success:\n",
        "    print(\"Optimal solution found:\")\n",
        "    print(\"Area for Wheat:\", round(result.x[0]))\n",
        "    print(\"Area for Barley:\", round(result.x[1]))\n",
        "    print(\"Maximum profit:\", -round(result.fun))  # Negate the objective function value as linprog minimizes\n",
        "else:\n",
        "    print(\"No optimal solution found.\")\n",
        "result.message"
      ],
      "metadata": {
        "id": "3rDNdVOCoH3D"
      },
      "execution_count": null,
      "outputs": []
    },
    {
      "cell_type": "code",
      "source": [
        "import numpy as np\n",
        "from scipy.optimize import linprog"
      ],
      "metadata": {
        "id": "jQVZdflVolkD"
      },
      "execution_count": 8,
      "outputs": []
    },
    {
      "cell_type": "code",
      "source": [
        "c = [-50, -120]"
      ],
      "metadata": {
        "id": "yaUT2nLOol_o"
      },
      "execution_count": 9,
      "outputs": []
    },
    {
      "cell_type": "code",
      "source": [
        "A = [[7000, 2000], [1, 1], [10, 30]]"
      ],
      "metadata": {
        "id": "DLcDc7TQool1"
      },
      "execution_count": 10,
      "outputs": []
    },
    {
      "cell_type": "code",
      "source": [
        "b = [700000, 110, 1200]"
      ],
      "metadata": {
        "id": "XGmaa9EgoqTP"
      },
      "execution_count": 11,
      "outputs": []
    },
    {
      "cell_type": "code",
      "source": [
        "x_bounds = (0, None)\n",
        "y_bounds = (0, None)\n"
      ],
      "metadata": {
        "id": "HQ8IEVOJosLX"
      },
      "execution_count": 12,
      "outputs": []
    },
    {
      "cell_type": "code",
      "source": [
        "result = linprog(c, A_ub=A, b_ub=b, bounds=[x_bounds, y_bounds])"
      ],
      "metadata": {
        "id": "PIxnT6m4ovuR"
      },
      "execution_count": 13,
      "outputs": []
    },
    {
      "cell_type": "code",
      "source": [
        "if result.success:\n",
        "    print(\"Optimal solution found:\")\n",
        "    print(\"Area for Wheat:\", round(result.x[0]))\n",
        "    print(\"Area for Barley:\", round(result.x[1]))\n",
        "    print(\"Maximum profit:\", -round(result.fun))  # Negate the objective function value as linprog minimizes\n",
        "else:\n",
        "    print(\"No optimal solution found.\")"
      ],
      "metadata": {
        "colab": {
          "base_uri": "https://localhost:8080/"
        },
        "id": "i59a5HrKoxhM",
        "outputId": "65983c2e-4eb3-483c-86ca-269468d79dae"
      },
      "execution_count": 14,
      "outputs": [
        {
          "output_type": "stream",
          "name": "stdout",
          "text": [
            "Optimal solution found:\n",
            "Area for Wheat: 98\n",
            "Area for Barley: 7\n",
            "Maximum profit: 5779\n"
          ]
        }
      ]
    },
    {
      "cell_type": "code",
      "source": [],
      "metadata": {
        "id": "qd5U6HTVozzm"
      },
      "execution_count": null,
      "outputs": []
    }
  ]
}
