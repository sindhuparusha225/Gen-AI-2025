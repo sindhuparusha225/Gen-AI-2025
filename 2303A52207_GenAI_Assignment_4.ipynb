{
  "nbformat": 4,
  "nbformat_minor": 0,
  "metadata": {
    "colab": {
      "provenance": [],
      "include_colab_link": true
    },
    "kernelspec": {
      "name": "python3",
      "display_name": "Python 3"
    },
    "language_info": {
      "name": "python"
    }
  },
  "cells": [
    {
      "cell_type": "markdown",
      "metadata": {
        "id": "view-in-github",
        "colab_type": "text"
      },
      "source": [
        "<a href=\"https://colab.research.google.com/github/sindhuparusha225/Gen-AI-2025/blob/main/2303A52207_GenAI_Assignment_4.ipynb\" target=\"_parent\"><img src=\"https://colab.research.google.com/assets/colab-badge.svg\" alt=\"Open In Colab\"/></a>"
      ]
    },
    {
      "cell_type": "markdown",
      "source": [
        "#**P.Sindhu**\n",
        "**Batch:33**\n",
        "\n",
        "**2303A52207**"
      ],
      "metadata": {
        "id": "Nbvijs91sSCA"
      }
    },
    {
      "cell_type": "markdown",
      "source": [
        " 1.Design a simple ANN architecture with one input and one output layer (no hidden\n",
        " layer). Assume a linear activation function in the output layer.\n",
        "\n",
        " • Write Python code for a backpropagation algorithm with gradient descent optimization to\n",
        " update weights and bias parameters of the ANN model with training data shown in Table\n",
        " 1.\n",
        "\n",
        " • Calculate the mean square error with training and testing data shown in Table 2.\n",
        "\n",
        " • Write Python code that reads the input data [x1, x2, and x3] from the user. Predict the\n",
        " output with deployed ANN model"
      ],
      "metadata": {
        "id": "0_PP02ResswX"
      }
    },
    {
      "cell_type": "code",
      "execution_count": null,
      "metadata": {
        "colab": {
          "base_uri": "https://localhost:8080/"
        },
        "id": "xkgG7sFBmC7h",
        "outputId": "4a56d688-647a-4b96-c384-72ffd66a934e"
      },
      "outputs": [
        {
          "output_type": "stream",
          "name": "stdout",
          "text": [
            "Training MSE: 0.00225\n",
            "Test MSE: 0.00815\n",
            "Enter values for x1, x2, x3 (space-separated): 0.1 0.2 0.3\n",
            "Predicted output: 0.05953\n"
          ]
        }
      ],
      "source": [
        "import numpy as np\n",
        "\n",
        "def train_ann(X_train, y_train, learning_rate=0.01, epochs=1000):\n",
        "    np.random.seed(42)  # For reproducibility\n",
        "    weights = np.random.rand(X_train.shape[1])  # Initialize weights\n",
        "    bias = np.random.rand()  # Initialize bias\n",
        "\n",
        "    for _ in range(epochs):\n",
        "        y_pred = np.dot(X_train, weights) + bias  # Linear output\n",
        "        error = y_pred - y_train  # Compute error\n",
        "\n",
        "        # Compute gradients\n",
        "        dW = np.dot(X_train.T, error) / len(X_train)\n",
        "        dB = np.mean(error)\n",
        "\n",
        "        # Update weights and bias\n",
        "        weights -= learning_rate * dW\n",
        "        bias -= learning_rate * dB\n",
        "\n",
        "    return weights, bias\n",
        "\n",
        "def mean_squared_error(y_true, y_pred):\n",
        "    return np.mean((y_true - y_pred) ** 2)\n",
        "\n",
        "def predict(X, weights, bias):\n",
        "    return np.dot(X, weights) + bias\n",
        "\n",
        "# Training data (Table 1)\n",
        "X_train = np.array([\n",
        "    [0.1, 0.2, 0.3],\n",
        "    [0.2, 0.3, 0.4],\n",
        "    [0.3, 0.4, 0.5],\n",
        "    [0.5, 0.6, 0.7],\n",
        "    [0.1, 0.3, 0.5],\n",
        "    [0.2, 0.4, 0.6],\n",
        "    [0.3, 0.5, 0.7],\n",
        "    [0.4, 0.6, 0.8],\n",
        "    [0.5, 0.7, 0.1]\n",
        "])\n",
        "y_train = np.array([0.14, 0.20, 0.26, 0.38, 0.22, 0.28, 0.34, 0.40, 0.22])\n",
        "\n",
        "# Train the ANN\n",
        "weights, bias = train_ann(X_train, y_train)\n",
        "\n",
        "# Training error\n",
        "train_predictions = predict(X_train, weights, bias)\n",
        "train_mse = mean_squared_error(y_train, train_predictions)\n",
        "print(f\"Training MSE: {train_mse:.5f}\")\n",
        "\n",
        "# Test data (Table 2)\n",
        "X_test = np.array([\n",
        "    [0.6, 0.7, 0.8],\n",
        "    [0.7, 0.8, 0.9]\n",
        "])\n",
        "y_test = np.array([0.44, 0.50])\n",
        "\n",
        "test_predictions = predict(X_test, weights, bias)\n",
        "test_mse = mean_squared_error(y_test, test_predictions)\n",
        "print(f\"Test MSE: {test_mse:.5f}\")\n",
        "\n",
        "# User input for prediction\n",
        "x_user = np.array([float(i) for i in input(\"Enter values for x1, x2, x3 (space-separated): \").split()])\n",
        "user_prediction = predict(x_user, weights, bias)\n",
        "print(f\"Predicted output: {user_prediction:.5f}\")\n"
      ]
    },
    {
      "cell_type": "markdown",
      "source": [
        " 2.Design a simple ANN architecture with one input and one output layer (no hidden\n",
        " layer). Assume a sigmoid activation function shown in the equation 1 in the output layer.\n",
        "\n",
        "\n",
        " • Write Python code for a backpropagation algorithm with gradient descent optimization to\n",
        " update weights and bias parameters of the ANN model with training data shown in Table\n",
        " 3\n",
        "\n",
        "  • Calculate the mean square error with training and testing data shown in Table 4.\n",
        "\n",
        " • Write Python code that reads the input data [x1, x2, and x3] from the user. Predict the\n",
        " output with deployed ANN model"
      ],
      "metadata": {
        "id": "Ewer1JLBs2s1"
      }
    },
    {
      "cell_type": "code",
      "source": [
        "import numpy as np\n",
        "\n",
        "def sigmoid(x):\n",
        "    return 1 / (1 + np.exp(-x))\n",
        "\n",
        "def train_ann(X_train, y_train, learning_rate=0.01, epochs=1000):\n",
        "    np.random.seed(42)  # For reproducibility\n",
        "    weights = np.random.rand(X_train.shape[1])  # Initialize weights\n",
        "    bias = np.random.rand()  # Initialize bias\n",
        "\n",
        "    for _ in range(epochs):\n",
        "        y_pred = sigmoid(np.dot(X_train, weights) + bias)  # Sigmoid activation\n",
        "        error = y_pred - y_train  # Compute error\n",
        "\n",
        "        # Compute gradients\n",
        "        dW = np.dot(X_train.T, error * y_pred * (1 - y_pred)) / len(X_train)\n",
        "        dB = np.mean(error * y_pred * (1 - y_pred))\n",
        "\n",
        "        # Update weights and bias\n",
        "        weights -= learning_rate * dW\n",
        "        bias -= learning_rate * dB\n",
        "\n",
        "    return weights, bias\n",
        "\n",
        "def mean_squared_error(y_true, y_pred):\n",
        "    return np.mean((y_true - y_pred) ** 2)\n",
        "\n",
        "def predict(X, weights, bias):\n",
        "    return sigmoid(np.dot(X, weights) + bias)\n",
        "\n",
        "# Training data (Table 3)\n",
        "X_train = np.array([\n",
        "    [0.1, 0.2, 0.3],\n",
        "    [0.2, 0.3, 0.4],\n",
        "    [0.3, 0.4, 0.5],\n",
        "    [0.5, 0.6, 0.7],\n",
        "    [0.1, 0.3, 0.5],\n",
        "    [0.2, 0.4, 0.6],\n",
        "    [0.3, 0.5, 0.7],\n",
        "    [0.4, 0.6, 0.8],\n",
        "    [0.5, 0.7, 0.1]\n",
        "])\n",
        "y_train = np.array([0.5349, 0.5498, 0.5646, 0.5939, 0.5548, 0.5695, 0.5842, 0.5987, 0.5548])\n",
        "\n",
        "# Train the ANN\n",
        "weights, bias = train_ann(X_train, y_train)\n",
        "\n",
        "# Training error\n",
        "train_predictions = predict(X_train, weights, bias)\n",
        "train_mse = mean_squared_error(y_train, train_predictions)\n",
        "print(f\"Training MSE: {train_mse:.5f}\")\n",
        "\n",
        "# Test data (Table 4)\n",
        "X_test = np.array([\n",
        "    [0.6, 0.7, 0.8],\n",
        "    [0.7, 0.8, 0.9]\n",
        "])\n",
        "y_test = np.array([0.6083, 0.6225])\n",
        "\n",
        "test_predictions = predict(X_test, weights, bias)\n",
        "test_mse = mean_squared_error(y_test, test_predictions)\n",
        "print(f\"Test MSE: {test_mse:.5f}\")\n",
        "\n",
        "# User input for prediction\n",
        "x_user = np.array([float(i) for i in input(\"Enter values for x1, x2, x3 (space-separated): \").split()])\n",
        "user_prediction = predict(x_user, weights, bias)\n",
        "print(f\"Predicted output: {user_prediction:.5f}\")\n"
      ],
      "metadata": {
        "colab": {
          "base_uri": "https://localhost:8080/"
        },
        "id": "lQFz9YZkrYFI",
        "outputId": "793d2a37-c16e-4061-df94-bc863f5d15eb"
      },
      "execution_count": null,
      "outputs": [
        {
          "output_type": "stream",
          "name": "stdout",
          "text": [
            "Training MSE: 0.02499\n",
            "Test MSE: 0.04100\n",
            "Enter values for x1, x2, x3 (space-separated): 0.6 0.7 0.8\n",
            "Predicted output: 0.80571\n"
          ]
        }
      ]
    }
  ]
}