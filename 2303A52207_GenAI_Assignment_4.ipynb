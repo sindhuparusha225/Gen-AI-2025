{
  "nbformat": 4,
  "nbformat_minor": 0,
  "metadata": {
    "colab": {
      "provenance": [],
      "authorship_tag": "ABX9TyP/3R1JsdTB0uJvHrY8Cltd",
      "include_colab_link": true
    },
    "kernelspec": {
      "name": "python3",
      "display_name": "Python 3"
    },
    "language_info": {
      "name": "python"
    }
  },
  "cells": [
    {
      "cell_type": "markdown",
      "metadata": {
        "id": "view-in-github",
        "colab_type": "text"
      },
      "source": [
        "<a href=\"https://colab.research.google.com/github/sindhuparusha225/Gen-AI-2025/blob/main/2303A52207_GenAI_Assignment_4.ipynb\" target=\"_parent\"><img src=\"https://colab.research.google.com/assets/colab-badge.svg\" alt=\"Open In Colab\"/></a>"
      ]
    },
    {
      "cell_type": "markdown",
      "source": [
        "#**P.Sindhu**\n",
        "\n",
        "   **Batch-33**\n",
        "\n",
        "**2303A52207**\n",
        "\n",
        "Design a simple ANN architecture with one input and one output layer (no hidden\n",
        "layer). Assume a linear activation function in the output layer.\n",
        "\n",
        " Write Python code for a backpropagation algorithm with gradient descent optimization to\n",
        "update weights and bias parameters of the ANN model with training data shown in Table\n",
        "\n",
        "1. Calculate the mean square error with training and testing data shown in Table\n",
        "2. Write Python code that reads the input data [x1, x2, and x3] from the user. Predict the\n",
        "output with deployed ANN model\n",
        "\n",
        "\n",
        "      Tabela 1: Training Data\n",
        "      x1 x2 x3 y\n",
        "      0.1 0.2 0.3 0.14\n",
        "      0.2 0.3 0.4 0.20\n",
        "      0.3 0.4 0.5 0.26\n",
        "      0.5 0.6 0.7 0.38\n",
        "      0.1 0.3 0.5 0.22\n",
        "      0.2 0.4 0.6 0.28\n",
        "      0.3 0.5 0.7 0.34\n",
        "      0.4 0.6 0.8 0.40\n",
        "      0.5 0.7 0.1 0.22\n",
        "      Tabela 2: Test Data\n",
        "      x1 x2 x3 y\n",
        "      0.6 0.7 0.8 0.44\n",
        "      0.7 0.8 0.9 0.50"
      ],
      "metadata": {
        "id": "YqccWSTYrKOB"
      }
    },
    {
      "cell_type": "code",
      "execution_count": null,
      "metadata": {
        "id": "94nURvAznT8V"
      },
      "outputs": [],
      "source": [
        "import numpy as np"
      ]
    },
    {
      "cell_type": "code",
      "source": [
        "def train_ann(X_train, y_train, learning_rate=0.01, epochs=1000):\n",
        "    np.random.seed(42)\n",
        "    weights = np.random.rand(X_train.shape[1])\n",
        "    bias = np.random.rand()\n",
        "\n",
        "    for _ in range(epochs):\n",
        "        y_pred = np.dot(X_train, weights) + bias\n",
        "        error = y_pred - y_train\n",
        "\n",
        "        dW = np.dot(X_train.T, error) / len(X_train)\n",
        "        dB = np.mean(error)\n",
        "\n",
        "        weights -= learning_rate * dW\n",
        "        bias -= learning_rate * dB\n",
        "\n",
        "    return weights, bias"
      ],
      "metadata": {
        "id": "01kf65HPs-tI"
      },
      "execution_count": 9,
      "outputs": []
    },
    {
      "cell_type": "code",
      "source": [
        "def mean_squared_error(y_true, y_pred):\n",
        "    return np.mean((y_true - y_pred) ** 2)\n"
      ],
      "metadata": {
        "id": "lQcj5C4BtBUK"
      },
      "execution_count": 10,
      "outputs": []
    },
    {
      "cell_type": "code",
      "source": [
        "def predict(X, weights, bias):\n",
        "    return np.dot(X, weights) + bias"
      ],
      "metadata": {
        "id": "pKNGqqnStMAO"
      },
      "execution_count": 11,
      "outputs": []
    },
    {
      "cell_type": "code",
      "source": [
        "X_train = np.array([\n",
        "    [0.1, 0.2, 0.3],\n",
        "    [0.2, 0.3, 0.4],\n",
        "    [0.3, 0.4, 0.5],\n",
        "    [0.5, 0.6, 0.7],\n",
        "    [0.1, 0.3, 0.5],\n",
        "    [0.2, 0.4, 0.6],\n",
        "    [0.3, 0.5, 0.7],\n",
        "    [0.4, 0.6, 0.8],\n",
        "    [0.5, 0.7, 0.1]\n",
        "])"
      ],
      "metadata": {
        "id": "HIcybtuYzD4h"
      },
      "execution_count": 12,
      "outputs": []
    },
    {
      "cell_type": "code",
      "source": [
        "y_train = np.array([0.14, 0.20, 0.26, 0.38, 0.22, 0.28, 0.34, 0.40, 0.22])"
      ],
      "metadata": {
        "id": "sUlli2v_zHCU"
      },
      "execution_count": 13,
      "outputs": []
    },
    {
      "cell_type": "code",
      "source": [
        "weights, bias = train_ann(X_train, y_train)"
      ],
      "metadata": {
        "id": "VGHSgP9rzJZz"
      },
      "execution_count": 14,
      "outputs": []
    },
    {
      "cell_type": "code",
      "source": [
        "train_predictions = predict(X_train, weights, bias)\n",
        "train_mse = mean_squared_error(y_train, train_predictions)\n",
        "print(f\"Training MSE: {train_mse:.5f}\")"
      ],
      "metadata": {
        "colab": {
          "base_uri": "https://localhost:8080/"
        },
        "id": "nC5RvCpazLq3",
        "outputId": "1fde0149-aa0a-4aac-d831-73d6c3e4d022"
      },
      "execution_count": 15,
      "outputs": [
        {
          "output_type": "stream",
          "name": "stdout",
          "text": [
            "Training MSE: 0.00225\n"
          ]
        }
      ]
    },
    {
      "cell_type": "code",
      "source": [
        "X_test = np.array([\n",
        "    [0.6, 0.7, 0.8],\n",
        "    [0.7, 0.8, 0.9]\n",
        "])\n",
        "y_test = np.array([0.44, 0.50])"
      ],
      "metadata": {
        "id": "pW5jO-_wzPVl"
      },
      "execution_count": 17,
      "outputs": []
    },
    {
      "cell_type": "code",
      "source": [
        "test_predictions = predict(X_test, weights, bias)\n",
        "test_mse = mean_squared_error(y_test, test_predictions)\n",
        "print(f\"Test MSE: {test_mse:.5f}\")"
      ],
      "metadata": {
        "colab": {
          "base_uri": "https://localhost:8080/"
        },
        "id": "4MRjizUvzRM4",
        "outputId": "cc371101-32e7-4929-8745-f6c5784c3922"
      },
      "execution_count": 18,
      "outputs": [
        {
          "output_type": "stream",
          "name": "stdout",
          "text": [
            "Test MSE: 0.00815\n"
          ]
        }
      ]
    },
    {
      "cell_type": "code",
      "source": [
        "x_user = np.array([float(i) for i in input(\"Enter values for x1, x2, x3 (space-separated): \").split()])\n",
        "user_prediction = predict(x_user, weights, bias)\n",
        "print(f\"Predicted output: {user_prediction:.5f}\")"
      ],
      "metadata": {
        "colab": {
          "base_uri": "https://localhost:8080/"
        },
        "id": "KiGw1GbwzYY8",
        "outputId": "4b4d16de-1627-47f2-85a6-221c21725324"
      },
      "execution_count": 19,
      "outputs": [
        {
          "output_type": "stream",
          "name": "stdout",
          "text": [
            "Enter values for x1, x2, x3 (space-separated): 0.1 0.2 0.3\n",
            "Predicted output: 0.05953\n"
          ]
        }
      ]
    },
    {
      "cell_type": "markdown",
      "source": [
        "2. Design a simple ANN architecture with one input and one output layer (no hidden\n",
        "layer). Assume a sigmoid activation function shown in the equation 1 in the output layer.\n",
        "        f(x) = 1\n",
        "        1 + e\n",
        "        −x\n",
        "        (1)\n",
        "• Write Python code for a backpropagation algorithm with gradient descent optimization to\n",
        "update weights and bias parameters of the ANN model with training data shown in Table.\n",
        "\n",
        "        Tabela 3: Training Data\n",
        "        x1 x2 x3 y\n",
        "        0.1 0.2 0.3 0.5349\n",
        "        0.2 0.3 0.4 0.5498\n",
        "        0.3 0.4 0.5 0.5646\n",
        "        0.5 0.6 0.7 0.5939\n",
        "        0.1 0.3 0.5 0.5548\n",
        "        0.2 0.4 0.6 0.5695\n",
        "        0.3 0.5 0.7 0.5842\n",
        "        0.4 0.6 0.8 0.5987\n",
        "        0.5 0.7 0.1 0.5548\n",
        "\n",
        "        Tabela 4: Test Data\n",
        "        x1 x2 x3 y\n",
        "        0.6 0.7 0.8 0.6083\n",
        "        0.7 0.8 0.9 0.6225\n",
        "\n",
        "\n",
        "• Calculate the mean square error with training and testing data shown in Table\n",
        "\n",
        "  Write Python code that reads the input data [x1, x2, and x3] from the user. Predict the\n",
        "output with deployed ANN model."
      ],
      "metadata": {
        "id": "G4ZRNmuuzqKe"
      }
    },
    {
      "cell_type": "code",
      "source": [
        "import numpy as np\n",
        "\n",
        "def sigmoid(x):\n",
        "    return 1 / (1 + np.exp(-x))"
      ],
      "metadata": {
        "id": "llgSiYOezbIW"
      },
      "execution_count": 20,
      "outputs": []
    },
    {
      "cell_type": "code",
      "source": [
        "def train_ann(X_train, y_train, learning_rate=0.01, epochs=1000):\n",
        "    np.random.seed(42)\n",
        "    weights = np.random.rand(X_train.shape[1])\n",
        "    bias = np.random.rand()\n",
        "\n",
        "    for _ in range(epochs):\n",
        "        y_pred = sigmoid(np.dot(X_train, weights) + bias)\n",
        "        error = y_pred - y_train\n",
        "\n",
        "        dW = np.dot(X_train.T, error * y_pred * (1 - y_pred)) / len(X_train)\n",
        "        dB = np.mean(error * y_pred * (1 - y_pred))\n",
        "\n",
        "        weights -= learning_rate * dW\n",
        "        bias -= learning_rate * dB\n",
        "\n",
        "    return weights, bias"
      ],
      "metadata": {
        "id": "-S1vl8BDzuHb"
      },
      "execution_count": 29,
      "outputs": []
    },
    {
      "cell_type": "code",
      "source": [
        "def mean_squared_error(y_true, y_pred):\n",
        "    return np.mean((y_true - y_pred) ** 2)"
      ],
      "metadata": {
        "id": "apT8aHJ2z1Xy"
      },
      "execution_count": 30,
      "outputs": []
    },
    {
      "cell_type": "code",
      "source": [
        "def predict(X, weights, bias):\n",
        "    return sigmoid(np.dot(X, weights) + bias)"
      ],
      "metadata": {
        "id": "6XUMSm1y0ZDR"
      },
      "execution_count": 31,
      "outputs": []
    },
    {
      "cell_type": "code",
      "source": [
        "X_train = np.array([\n",
        "    [0.1, 0.2, 0.3],\n",
        "    [0.2, 0.3, 0.4],\n",
        "    [0.3, 0.4, 0.5],\n",
        "    [0.5, 0.6, 0.7],\n",
        "    [0.1, 0.3, 0.5],\n",
        "    [0.2, 0.4, 0.6],\n",
        "    [0.3, 0.5, 0.7],\n",
        "    [0.4, 0.6, 0.8],\n",
        "    [0.5, 0.7, 0.1]\n",
        "])\n",
        "y_train = np.array([0.5349, 0.5498, 0.5646, 0.5939, 0.5548, 0.5695, 0.5842, 0.5987, 0.5548])"
      ],
      "metadata": {
        "id": "xuwAuQQe0bOi"
      },
      "execution_count": 32,
      "outputs": []
    },
    {
      "cell_type": "code",
      "source": [
        "weights, bias = train_ann(X_train, y_train)"
      ],
      "metadata": {
        "id": "NSZwnvOe0eBe"
      },
      "execution_count": 33,
      "outputs": []
    },
    {
      "cell_type": "code",
      "source": [
        "train_predictions = predict(X_train, weights, bias)\n",
        "train_mse = mean_squared_error(y_train, train_predictions)\n",
        "print(f\"Training MSE: {train_mse:.5f}\")"
      ],
      "metadata": {
        "colab": {
          "base_uri": "https://localhost:8080/"
        },
        "id": "hCIYAVIU0gfx",
        "outputId": "b17467cc-d927-4b50-e21f-a2529976d506"
      },
      "execution_count": 34,
      "outputs": [
        {
          "output_type": "stream",
          "name": "stdout",
          "text": [
            "Training MSE: 0.02499\n"
          ]
        }
      ]
    },
    {
      "cell_type": "code",
      "source": [
        "X_test = np.array([\n",
        "    [0.6, 0.7, 0.8],\n",
        "    [0.7, 0.8, 0.9]\n",
        "])\n",
        "y_test = np.array([0.6083, 0.6225])"
      ],
      "metadata": {
        "id": "RDuzCp020inN"
      },
      "execution_count": 35,
      "outputs": []
    },
    {
      "cell_type": "code",
      "source": [
        "test_predictions = predict(X_test, weights, bias)\n",
        "test_mse = mean_squared_error(y_test, test_predictions)\n",
        "print(f\"Test MSE: {test_mse:.5f}\")"
      ],
      "metadata": {
        "colab": {
          "base_uri": "https://localhost:8080/"
        },
        "id": "WnhL_ftw0nKT",
        "outputId": "e556e35f-32ac-43c1-fe48-d9bbe67ea716"
      },
      "execution_count": 36,
      "outputs": [
        {
          "output_type": "stream",
          "name": "stdout",
          "text": [
            "Test MSE: 0.04100\n"
          ]
        }
      ]
    },
    {
      "cell_type": "code",
      "source": [
        "x_user = np.array([float(i) for i in input(\"Enter values for x1, x2, x3 (space-separated): \").split()])\n",
        "user_prediction = predict(x_user, weights, bias)\n",
        "print(f\"Predicted output: {user_prediction:.5f}\")"
      ],
      "metadata": {
        "colab": {
          "base_uri": "https://localhost:8080/"
        },
        "id": "8_vt5nkj0pZV",
        "outputId": "87755d04-0f24-4e92-94ab-206c4cc881c3"
      },
      "execution_count": 37,
      "outputs": [
        {
          "output_type": "stream",
          "name": "stdout",
          "text": [
            "Enter values for x1, x2, x3 (space-separated): 0.6 0.7 0.8\n",
            "Predicted output: 0.80571\n"
          ]
        }
      ]
    },
    {
      "cell_type": "code",
      "source": [],
      "metadata": {
        "id": "HYueNEBX0rja"
      },
      "execution_count": null,
      "outputs": []
    }
  ]
}