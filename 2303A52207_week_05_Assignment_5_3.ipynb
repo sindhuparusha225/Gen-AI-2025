{
  "nbformat": 4,
  "nbformat_minor": 0,
  "metadata": {
    "colab": {
      "provenance": [],
      "authorship_tag": "ABX9TyPc0P0j3pJTYB6swJX5Wb33",
      "include_colab_link": true
    },
    "kernelspec": {
      "name": "python3",
      "display_name": "Python 3"
    },
    "language_info": {
      "name": "python"
    }
  },
  "cells": [
    {
      "cell_type": "markdown",
      "metadata": {
        "id": "view-in-github",
        "colab_type": "text"
      },
      "source": [
        "<a href=\"https://colab.research.google.com/github/sindhuparusha225/Gen-AI-2025/blob/main/2303A52207_week_05_Assignment_5_3.ipynb\" target=\"_parent\"><img src=\"https://colab.research.google.com/assets/colab-badge.svg\" alt=\"Open In Colab\"/></a>"
      ]
    },
    {
      "cell_type": "markdown",
      "source": [
        "1. (1 ponto) Design a multi-layer ANN architecture with one input, one hidden, and one output\n",
        "layer. Assume a linear activation function in the output layer and a sigmoid activation function\n",
        "in the hidden layer.\n",
        "\n",
        "• Write Python code for a backpropagation algorithm with gradient descent optimization to\n",
        "update weights and bias parameters of the ANN model with training data shown in Table\n",
        "1.\n",
        "\n",
        "• Calculate the mean square error with training and testing data shown in Table 2.\n",
        "\n",
        "• Write Python code that reads the input data [x1 and x2] from the user. Predict the output\n",
        "with deployed ANN model\n",
        "\n",
        "      Tabela 1: Training Data\n",
        "        x1  x2  y\n",
        "        1  2  0.4140\n",
        "        2  3  0.4611\n",
        "        5  6  0.5501\n",
        "        6  7  0.5656\n",
        "        7  8  0.5765\n",
        "        8  9  0.5840\n",
        "\n",
        "\n",
        "      Tabela 2: Test Data\n",
        "        x1 x2  y\n",
        "        3  4  0.4992\n",
        "        4  5  0.5285\n",
        "        \n",
        "• Expected learning Outcomes from this assignment related to python\n",
        "\n",
        "– Students are able to understand how backpropagation algorithm helps to update model\n",
        "parameters of multilayer ANN\n",
        "\n",
        "– Students are able to write code in python for backpropagation algorithm\n",
        "\n",
        "– Students are able to design architecture of ANN based on problem statement\n",
        "\n",
        "– Students are able to derive mathematical expression for change in weights and bias\n",
        "parameters for different activation functions"
      ],
      "metadata": {
        "id": "plCDgQfq4ETi"
      }
    },
    {
      "cell_type": "code",
      "execution_count": null,
      "metadata": {
        "colab": {
          "base_uri": "https://localhost:8080/"
        },
        "id": "0VBJSc3p31P3",
        "outputId": "80a20a24-96d5-4df2-f8d2-e066fb0e0b79"
      },
      "outputs": [
        {
          "output_type": "stream",
          "name": "stdout",
          "text": [
            "Epoch 0, Loss: 2.9474841347876457\n",
            "Epoch 1000, Loss: 0.002437165840999753\n",
            "Epoch 2000, Loss: 0.0018115494337011444\n",
            "Epoch 3000, Loss: 0.001075962142183538\n",
            "Epoch 4000, Loss: 0.00043547864829205805\n",
            "Epoch 5000, Loss: 0.00012733579930420294\n",
            "Epoch 6000, Loss: 3.5641939457177504e-05\n",
            "Epoch 7000, Loss: 1.1660711329677298e-05\n",
            "Epoch 8000, Loss: 5.022441450564796e-06\n",
            "Epoch 9000, Loss: 2.919874629543446e-06\n",
            "Training MSE: 2.1013370977796696e-06\n",
            "Testing MSE: 5.512315284232755e-06\n",
            "Enter x1 and x2: 1 2\n",
            "Predicted output: 0.4121964556793592\n"
          ]
        }
      ],
      "source": [
        "import numpy as np\n",
        "\n",
        "def sigmoid(x):\n",
        "    return 1 / (1 + np.exp(-x))\n",
        "\n",
        "def sigmoid_derivative(x):\n",
        "    return x * (1 - x)\n",
        "\n",
        "def train_ann(X, y, hidden_neurons=3, lr=0.01, epochs=10000):\n",
        "    input_neurons = X.shape[1]\n",
        "    output_neurons = 1\n",
        "\n",
        "    np.random.seed(0)\n",
        "    W1 = np.random.rand(input_neurons, hidden_neurons)\n",
        "    b1 = np.random.rand(hidden_neurons)\n",
        "    W2 = np.random.rand(hidden_neurons, output_neurons)\n",
        "    b2 = np.random.rand(output_neurons)\n",
        "\n",
        "    for epoch in range(epochs):\n",
        "        # Forward pass\n",
        "        hidden_input = np.dot(X, W1) + b1\n",
        "        hidden_output = sigmoid(hidden_input)\n",
        "        final_input = np.dot(hidden_output, W2) + b2\n",
        "        final_output = final_input  # Linear activation\n",
        "\n",
        "        # Compute loss (MSE)\n",
        "        loss = np.mean((y - final_output) ** 2)\n",
        "\n",
        "        # Backpropagation\n",
        "        error = y - final_output\n",
        "        d_output = error  # Derivative of linear activation is 1\n",
        "\n",
        "        error_hidden = d_output.dot(W2.T) * sigmoid_derivative(hidden_output)\n",
        "\n",
        "        # Update weights and biases\n",
        "        W2 += hidden_output.T.dot(d_output) * lr\n",
        "        b2 += np.sum(d_output, axis=0) * lr\n",
        "        W1 += X.T.dot(error_hidden) * lr\n",
        "        b1 += np.sum(error_hidden, axis=0) * lr\n",
        "\n",
        "        if epoch % 1000 == 0:\n",
        "            print(f'Epoch {epoch}, Loss: {loss}')\n",
        "\n",
        "    return W1, b1, W2, b2\n",
        "\n",
        "def predict(X, W1, b1, W2, b2):\n",
        "    hidden_input = np.dot(X, W1) + b1\n",
        "    hidden_output = sigmoid(hidden_input)\n",
        "    final_input = np.dot(hidden_output, W2) + b2\n",
        "    return final_input  # Linear activation\n",
        "\n",
        "def mse(y_true, y_pred):\n",
        "    return np.mean((y_true - y_pred) ** 2)\n",
        "\n",
        "# Training Data\n",
        "train_X = np.array([[1, 2], [2, 3], [5, 6], [6, 7], [7, 8], [8, 9]])\n",
        "train_y = np.array([[0.4140], [0.4611], [0.5501], [0.5656], [0.5765], [0.5840]])\n",
        "\n",
        "# Train the ANN\n",
        "W1, b1, W2, b2 = train_ann(train_X, train_y)\n",
        "\n",
        "# Test Data\n",
        "test_X = np.array([[3, 4], [4, 5]])\n",
        "test_y = np.array([[0.4992], [0.5285]])\n",
        "\n",
        "# Predictions and MSE\n",
        "train_predictions = predict(train_X, W1, b1, W2, b2)\n",
        "test_predictions = predict(test_X, W1, b1, W2, b2)\n",
        "\n",
        "print(\"Training MSE:\", mse(train_y, train_predictions))\n",
        "print(\"Testing MSE:\", mse(test_y, test_predictions))\n",
        "\n",
        "# User Input Prediction\n",
        "x1, x2 = map(float, input(\"Enter x1 and x2: \").split())\n",
        "user_input = np.array([[x1, x2]])\n",
        "prediction = predict(user_input, W1, b1, W2, b2)\n",
        "print(\"Predicted output:\", prediction[0][0])\n"
      ]
    }
  ]
}