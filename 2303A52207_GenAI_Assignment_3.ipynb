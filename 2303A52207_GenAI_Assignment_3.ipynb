{
  "nbformat": 4,
  "nbformat_minor": 0,
  "metadata": {
    "colab": {
      "provenance": [],
      "include_colab_link": true
    },
    "kernelspec": {
      "name": "python3",
      "display_name": "Python 3"
    },
    "language_info": {
      "name": "python"
    }
  },
  "cells": [
    {
      "cell_type": "markdown",
      "metadata": {
        "id": "view-in-github",
        "colab_type": "text"
      },
      "source": [
        "<a href=\"https://colab.research.google.com/github/sindhuparusha225/Gen-AI-2025/blob/main/2303A52207_GenAI_Assignment_3.ipynb\" target=\"_parent\"><img src=\"https://colab.research.google.com/assets/colab-badge.svg\" alt=\"Open In Colab\"/></a>"
      ]
    },
    {
      "cell_type": "markdown",
      "source": [
        "#**P.Sindhu**\n",
        "**Batch:33**\n",
        "\n",
        "**2303A52207**\n",
        "\n",
        "\n",
        " 1. (1 ponto) Write Python code without using any libraries to find the value of x at which the\n",
        " function f(x) shown in equation (1) has minimum value. Consider Gradient Descent Algorithm.\n",
        "\n",
        "\n",
        "\n",
        "\n",
        "                    f(x) = 5x4 +3x2 +10"
      ],
      "metadata": {
        "id": "Z5pRg_6Qnoz0"
      }
    },
    {
      "cell_type": "code",
      "execution_count": null,
      "metadata": {
        "id": "mEOHoWNNm36s",
        "colab": {
          "base_uri": "https://localhost:8080/"
        },
        "outputId": "a9713b8c-6aae-4994-b055-5f210658461b"
      },
      "outputs": [
        {
          "output_type": "stream",
          "name": "stdout",
          "text": [
            "Minimum x for f(x): 0.0\n"
          ]
        }
      ],
      "source": [
        "def gradient_descent_f(learning_rate=0.01, iterations=1000):\n",
        "    x = 0\n",
        "    for _ in range(iterations):\n",
        "        gradient = 20 * x**3 + 6 * x\n",
        "        x -= learning_rate * gradient\n",
        "    return x\n",
        "\n",
        "x_min = gradient_descent_f()\n",
        "print(f\"Minimum x for f(x): {x_min}\")"
      ]
    },
    {
      "cell_type": "markdown",
      "source": [
        " 2. (1 ponto) Write Python code without using any libraries to find the value of x and y at which the\n",
        " function g(x,y) shown in equation (2) has minimum value. Consider Gradient Descent Algorithm.\n",
        "\n",
        "\n",
        "                    f(x) = 3x2 +5e−y +10"
      ],
      "metadata": {
        "id": "EVETPYPio87P"
      }
    },
    {
      "source": [
        "import math\n",
        "\n",
        "def gradient_descent_g(learning_rate=0.01, iterations=1000):\n",
        "    x, y = 0, 0\n",
        "    for _ in range(iterations):\n",
        "        grad_x = 6 * x\n",
        "\n",
        "        grad_y = -5 * (-math.exp(min(-y, 700)))\n",
        "        x -= learning_rate * grad_x\n",
        "        y -= learning_rate * grad_y\n",
        "    return x, y\n",
        "\n",
        "x_min, y_min = gradient_descent_g()\n",
        "print(f\"Minimum (x, y) for g(x, y): ({x_min}, {y_min})\")"
      ],
      "cell_type": "code",
      "metadata": {
        "colab": {
          "base_uri": "https://localhost:8080/"
        },
        "id": "gKJONpuXph76",
        "outputId": "ca57302b-e02d-47c4-d4b4-5287a21f5a29"
      },
      "execution_count": null,
      "outputs": [
        {
          "output_type": "stream",
          "name": "stdout",
          "text": [
            "Minimum (x, y) for g(x, y): (0.0, -4.949452427106836e+305)\n"
          ]
        }
      ]
    },
    {
      "cell_type": "markdown",
      "source": [
        "3.  (1 ponto) Write Python code without using any libraries to find the value of x at which the sigmoid function z(x) shown in equation (3) has minimum value. Consider Gradient Descent Algorithm.\n",
        "        z(x) = 1 \\ 1 +e^−x"
      ],
      "metadata": {
        "id": "cKa7SrCTtk8b"
      }
    },
    {
      "cell_type": "code",
      "source": [
        "def gradient_descent_sigmoid(learning_rate=0.01, iterations=1000):\n",
        "    x = 0\n",
        "    for _ in range(iterations):\n",
        "        sigmoid_x = 1 / (1 + 2.718**-x)\n",
        "        gradient = sigmoid_x * (1 - sigmoid_x)\n",
        "        x -= learning_rate * gradient\n",
        "    return x\n",
        "\n",
        "x_min_sigmoid = gradient_descent_sigmoid()\n",
        "print(f\"Minimum x for sigmoid function: {x_min_sigmoid}\")"
      ],
      "metadata": {
        "colab": {
          "base_uri": "https://localhost:8080/"
        },
        "id": "tfEvpESYt18X",
        "outputId": "7254f8b0-ce8d-46ec-c752-e5d8f79ca9fe"
      },
      "execution_count": null,
      "outputs": [
        {
          "output_type": "stream",
          "name": "stdout",
          "text": [
            "Minimum x for sigmoid function: -1.8619077201329008\n"
          ]
        }
      ]
    },
    {
      "cell_type": "markdown",
      "source": [
        "4. (1 ponto) Write Python code without using any libraries to find the value of optimal values of model parameters M and C such that the model’s Square Error Value shown in equation 4 will be minimum. It means model gives output close to expected output as shown in Figure 1\n",
        "\n",
        "\n",
        " Figura 1: AI Model\n",
        "\n",
        " SE =(ExpectedOutput −PredictedOutput)2"
      ],
      "metadata": {
        "id": "_uOq-09At1T_"
      }
    },
    {
      "cell_type": "code",
      "source": [
        "def gradient_descent_SE(expected, predicted, learning_rate=0.01, iterations=1000):\n",
        "    M, C = 0, 0\n",
        "    for _ in range(iterations):\n",
        "        error = expected - (M * predicted + C)\n",
        "        grad_M = -2 * predicted * error\n",
        "        grad_C = -2 * error\n",
        "        M -= learning_rate * grad_M\n",
        "        C -= learning_rate * grad_C\n",
        "    return M, C\n",
        "\n",
        "M_opt, C_opt = gradient_descent_SE(10, 5)\n",
        "print(f\"Optimal M: {M_opt}, Optimal C: {C_opt}\")\n"
      ],
      "metadata": {
        "colab": {
          "base_uri": "https://localhost:8080/"
        },
        "id": "6ypg5DfPuILd",
        "outputId": "042d0efb-fc24-4266-f204-b453dd18e28c"
      },
      "execution_count": null,
      "outputs": [
        {
          "output_type": "stream",
          "name": "stdout",
          "text": [
            "Optimal M: 1.923076923076923, Optimal C: 0.38461538461538475\n"
          ]
        }
      ]
    }
  ]
}