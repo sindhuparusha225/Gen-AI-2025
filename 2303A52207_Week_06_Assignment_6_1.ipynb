{
  "nbformat": 4,
  "nbformat_minor": 0,
  "metadata": {
    "colab": {
      "provenance": [],
      "authorship_tag": "ABX9TyPj1Z1/2UiJGDrvJmJliLj4",
      "include_colab_link": true
    },
    "kernelspec": {
      "name": "python3",
      "display_name": "Python 3"
    },
    "language_info": {
      "name": "python"
    }
  },
  "cells": [
    {
      "cell_type": "markdown",
      "metadata": {
        "id": "view-in-github",
        "colab_type": "text"
      },
      "source": [
        "<a href=\"https://colab.research.google.com/github/sindhuparusha225/Gen-AI-2025/blob/main/2303A52207_Week_06_Assignment_6_1.ipynb\" target=\"_parent\"><img src=\"https://colab.research.google.com/assets/colab-badge.svg\" alt=\"Open In Colab\"/></a>"
      ]
    },
    {
      "cell_type": "markdown",
      "source": [
        "1. (1 ponto) Design a multilayer ANN architecture according to the requirements shown below.\n",
        "Train, test, save (.h5) and deploy the model to predict the housing price using Keras deep\n",
        "learning library\n",
        "\n",
        "2. (1 ponto) Calculate training and testing error metrics\n",
        "\n",
        "3. (1 ponto) Build the application by loading the saved ANN model.\n",
        "\n",
        "Tabela 1: ANN Architecture\n",
        "\n",
        "      Layer             Neurons   Activation Function\n",
        "    Hidden Layer - 1    15          tanh\n",
        "    Hidden Layer - 2    20          tanh\n",
        "    Hidden Layer - 3    15          tanh\n",
        "\n",
        "Tabela 2: Training Parameters\n",
        "\n",
        "    loss function     epochs  batch size  error metric     Optimizer\n",
        "    Mean Square Error 100     16         Mean Square Error  SGD\n",
        "Dataset: https://drive.google.com/file/d/1AcdENlVm5dccNyo_vgdMbneX8YVvH5R3/view?\n",
        "usp=sharing\n",
        "\n",
        "• Expected learning Outcomes from this assignment related to python\n",
        "\n",
        "– Students are able to build ANN model with python deep learning libraries\n",
        "\n",
        "– Students are able to deploy trained ANN model\n",
        "\n",
        "– Students are able to measure training and testing performance of trained model"
      ],
      "metadata": {
        "id": "K1zLd21S6e5x"
      }
    },
    {
      "source": [
        "import pandas as pd\n",
        "from sklearn.model_selection import train_test_split\n",
        "from sklearn.preprocessing import StandardScaler\n",
        "from tensorflow import keras\n",
        "from tensorflow.keras.models import Sequential\n",
        "from tensorflow.keras.layers import Dense\n",
        "from tensorflow.keras.optimizers import SGD\n",
        "from sklearn.preprocessing import OneHotEncoder  # Import OneHotEncoder\n",
        "\n",
        "# Load the dataset\n",
        "df = pd.read_csv('/content/Housing.csv')\n",
        "\n",
        "# Separate numerical and categorical features\n",
        "numerical_features = df.select_dtypes(include=['number']).columns\n",
        "categorical_features = df.select_dtypes(include=['object']).columns\n",
        "X_numerical = df[numerical_features].drop('price', axis=1) # Assuming 'price' is the target\n",
        "X_categorical = df[categorical_features]\n",
        "y = df['price']\n",
        "\n",
        "# One-hot encode categorical features\n",
        "encoder = OneHotEncoder(sparse_output=False, handle_unknown='ignore') # Create encoder instance\n",
        "X_categorical_encoded = encoder.fit_transform(X_categorical) # Fit and transform\n",
        "X_categorical_encoded_df = pd.DataFrame(X_categorical_encoded, columns=encoder.get_feature_names_out(categorical_features.tolist())) # Convert to DataFrame\n",
        "\n",
        "# Combine numerical and encoded categorical features\n",
        "X = pd.concat([X_numerical, X_categorical_encoded_df], axis=1)\n",
        "\n",
        "# Split data into training and testing sets\n",
        "X_train, X_test, y_train, y_test = train_test_split(X, y, test_size=0.2, random_state=42)\n",
        "\n",
        "# Scale the numerical features\n",
        "scaler = StandardScaler()\n",
        "X_train[numerical_features.drop('price')] = scaler.fit_transform(X_train[numerical_features.drop('price')]) # Only scale numerical columns\n",
        "X_test[numerical_features.drop('price')] = scaler.transform(X_test[numerical_features.drop('price')])"
      ],
      "cell_type": "code",
      "metadata": {
        "id": "j2-fOxH8-k-x"
      },
      "execution_count": null,
      "outputs": []
    },
    {
      "cell_type": "code",
      "source": [
        "print(X_categorical_encoded_df.head())"
      ],
      "metadata": {
        "colab": {
          "base_uri": "https://localhost:8080/"
        },
        "id": "jpSikpYX_DJK",
        "outputId": "42e3ad3c-ac43-4edc-c9e7-809ed4c19462"
      },
      "execution_count": null,
      "outputs": [
        {
          "output_type": "stream",
          "name": "stdout",
          "text": [
            "   mainroad_no  mainroad_yes  guestroom_no  guestroom_yes  basement_no  \\\n",
            "0          0.0           1.0           1.0            0.0          1.0   \n",
            "1          0.0           1.0           1.0            0.0          1.0   \n",
            "2          0.0           1.0           1.0            0.0          0.0   \n",
            "3          0.0           1.0           1.0            0.0          0.0   \n",
            "4          0.0           1.0           0.0            1.0          0.0   \n",
            "\n",
            "   basement_yes  hotwaterheating_no  hotwaterheating_yes  airconditioning_no  \\\n",
            "0           0.0                 1.0                  0.0                 0.0   \n",
            "1           0.0                 1.0                  0.0                 0.0   \n",
            "2           1.0                 1.0                  0.0                 1.0   \n",
            "3           1.0                 1.0                  0.0                 0.0   \n",
            "4           1.0                 1.0                  0.0                 0.0   \n",
            "\n",
            "   airconditioning_yes  prefarea_no  prefarea_yes  furnishingstatus_furnished  \\\n",
            "0                  1.0          0.0           1.0                         1.0   \n",
            "1                  1.0          1.0           0.0                         1.0   \n",
            "2                  0.0          0.0           1.0                         0.0   \n",
            "3                  1.0          0.0           1.0                         1.0   \n",
            "4                  1.0          1.0           0.0                         1.0   \n",
            "\n",
            "   furnishingstatus_semi-furnished  furnishingstatus_unfurnished  \n",
            "0                              0.0                           0.0  \n",
            "1                              0.0                           0.0  \n",
            "2                              1.0                           0.0  \n",
            "3                              0.0                           0.0  \n",
            "4                              0.0                           0.0  \n"
          ]
        }
      ]
    },
    {
      "cell_type": "code",
      "source": [
        "print(X.head())"
      ],
      "metadata": {
        "colab": {
          "base_uri": "https://localhost:8080/"
        },
        "id": "eC8ZgYLN_IP3",
        "outputId": "78613a97-c3e0-4bf9-db07-f01641c6a446"
      },
      "execution_count": null,
      "outputs": [
        {
          "output_type": "stream",
          "name": "stdout",
          "text": [
            "   area  bedrooms  bathrooms  stories  parking  mainroad_no  mainroad_yes  \\\n",
            "0  7420         4          2        3        2          0.0           1.0   \n",
            "1  8960         4          4        4        3          0.0           1.0   \n",
            "2  9960         3          2        2        2          0.0           1.0   \n",
            "3  7500         4          2        2        3          0.0           1.0   \n",
            "4  7420         4          1        2        2          0.0           1.0   \n",
            "\n",
            "   guestroom_no  guestroom_yes  basement_no  basement_yes  hotwaterheating_no  \\\n",
            "0           1.0            0.0          1.0           0.0                 1.0   \n",
            "1           1.0            0.0          1.0           0.0                 1.0   \n",
            "2           1.0            0.0          0.0           1.0                 1.0   \n",
            "3           1.0            0.0          0.0           1.0                 1.0   \n",
            "4           0.0            1.0          0.0           1.0                 1.0   \n",
            "\n",
            "   hotwaterheating_yes  airconditioning_no  airconditioning_yes  prefarea_no  \\\n",
            "0                  0.0                 0.0                  1.0          0.0   \n",
            "1                  0.0                 0.0                  1.0          1.0   \n",
            "2                  0.0                 1.0                  0.0          0.0   \n",
            "3                  0.0                 0.0                  1.0          0.0   \n",
            "4                  0.0                 0.0                  1.0          1.0   \n",
            "\n",
            "   prefarea_yes  furnishingstatus_furnished  furnishingstatus_semi-furnished  \\\n",
            "0           1.0                         1.0                              0.0   \n",
            "1           0.0                         1.0                              0.0   \n",
            "2           1.0                         0.0                              1.0   \n",
            "3           1.0                         1.0                              0.0   \n",
            "4           0.0                         1.0                              0.0   \n",
            "\n",
            "   furnishingstatus_unfurnished  \n",
            "0                           0.0  \n",
            "1                           0.0  \n",
            "2                           0.0  \n",
            "3                           0.0  \n",
            "4                           0.0  \n"
          ]
        }
      ]
    },
    {
      "cell_type": "code",
      "source": [
        "print(\"Training set shape:\", X_train.shape, y_train.shape)\n",
        "print(\"Testing set shape:\", X_test.shape, y_test.shape)"
      ],
      "metadata": {
        "colab": {
          "base_uri": "https://localhost:8080/"
        },
        "id": "JME9D1TT_Koj",
        "outputId": "3a47d337-0b96-4f71-ae55-7a0dd71899ce"
      },
      "execution_count": null,
      "outputs": [
        {
          "output_type": "stream",
          "name": "stdout",
          "text": [
            "Training set shape: (436, 20) (436,)\n",
            "Testing set shape: (109, 20) (109,)\n"
          ]
        }
      ]
    },
    {
      "cell_type": "code",
      "source": [
        "print(X_train[numerical_features.drop('price')].head())\n",
        "print(X_test[numerical_features.drop('price')].head())"
      ],
      "metadata": {
        "colab": {
          "base_uri": "https://localhost:8080/"
        },
        "id": "wRc_PxVd_NF1",
        "outputId": "1d369f24-7dff-4c1a-f2c5-b0eeeeaccd47"
      },
      "execution_count": null,
      "outputs": [
        {
          "output_type": "stream",
          "name": "stdout",
          "text": [
            "         area  bedrooms  bathrooms   stories   parking\n",
            "46   0.384168  0.055271   1.539173  2.587644  0.367957\n",
            "93   0.929181  0.055271   1.539173 -0.912499  2.709987\n",
            "335 -0.607755 -1.283514  -0.557950 -0.912499  1.538972\n",
            "412 -1.155492  0.055271  -0.557950  0.254215 -0.803059\n",
            "471 -0.637730  0.055271  -0.557950  0.254215 -0.803059\n",
            "         area  bedrooms  bathrooms   stories   parking\n",
            "316  0.338750  1.394055   1.539173  0.254215  0.367957\n",
            "77   0.611257  0.055271   1.539173  1.420929 -0.803059\n",
            "360 -0.506019 -1.283514  -0.557950 -0.912499 -0.803059\n",
            "90  -0.070009  0.055271  -0.557950  0.254215 -0.803059\n",
            "493 -0.542353  0.055271  -0.557950 -0.912499 -0.803059\n"
          ]
        }
      ]
    },
    {
      "cell_type": "code",
      "source": [
        "print(y_train[:5])"
      ],
      "metadata": {
        "colab": {
          "base_uri": "https://localhost:8080/"
        },
        "id": "fVzefAR8_Pki",
        "outputId": "5537b964-7e1d-416e-e923-0bbc3fb46198"
      },
      "execution_count": null,
      "outputs": [
        {
          "output_type": "stream",
          "name": "stdout",
          "text": [
            "46     7525000\n",
            "93     6300000\n",
            "335    3920000\n",
            "412    3430000\n",
            "471    3010000\n",
            "Name: price, dtype: int64\n"
          ]
        }
      ]
    }
  ]
}