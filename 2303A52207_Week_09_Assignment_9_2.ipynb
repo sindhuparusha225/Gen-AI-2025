{
  "nbformat": 4,
  "nbformat_minor": 0,
  "metadata": {
    "colab": {
      "provenance": [],
      "authorship_tag": "ABX9TyO9WBjcsZhjHNY8dGvo2Jjr",
      "include_colab_link": true
    },
    "kernelspec": {
      "name": "python3",
      "display_name": "Python 3"
    },
    "language_info": {
      "name": "python"
    }
  },
  "cells": [
    {
      "cell_type": "markdown",
      "metadata": {
        "id": "view-in-github",
        "colab_type": "text"
      },
      "source": [
        "<a href=\"https://colab.research.google.com/github/sindhuparusha225/Gen-AI-2025/blob/main/2303A52207_Week_09_Assignment_9_2.ipynb\" target=\"_parent\"><img src=\"https://colab.research.google.com/assets/colab-badge.svg\" alt=\"Open In Colab\"/></a>"
      ]
    },
    {
      "cell_type": "markdown",
      "source": [
        "1. (1 ponto) Design a multilayer ANN architecture to identify the hand-written digits using the\n",
        "Keras deep learning library. Consider the MNIST data set\n",
        "\n",
        "2. (1 ponto) Calculate the accuracy with training and testing data\n",
        "\n",
        "3. (1 ponto) Also, change the architecture by tuning no. of hidden layers, no. of hidden neurons\n",
        "and activation functions in hidden layer. Identify best architecture in terms of testing accuracy\n",
        "\n",
        "          Tabela 1: ANN Architecture\n",
        "          Layer             Neurons   Activation Function\n",
        "          Hidden Layer - 1   64       sigmoid\n",
        "          Hidden Layer - 2   64       sigmoid\n",
        "          \n",
        "          Tabela 2: Training Parameters\n",
        "          epochs   batch size   error metric    Optimizer\n",
        "          20         64           accuracy       rmsprop\n",
        "\n",
        "Dataset: MNIST\n",
        "• Expected learning Outcomes from this assignment related to python\n",
        "\n",
        "– Students are able to build ANN model with python deep learning libraries to classify\n",
        "hand written digits\n",
        "\n",
        "– Students are able to measure training and testing performance of trained model"
      ],
      "metadata": {
        "id": "YithSqI8Fp91"
      }
    },
    {
      "cell_type": "code",
      "execution_count": null,
      "metadata": {
        "colab": {
          "base_uri": "https://localhost:8080/"
        },
        "id": "OKoH1eQsFnXG",
        "outputId": "0067879a-a746-4aec-dd3f-7d3e76e0cb6c"
      },
      "outputs": [
        {
          "output_type": "stream",
          "name": "stdout",
          "text": [
            "Downloading data from https://storage.googleapis.com/tensorflow/tf-keras-datasets/mnist.npz\n",
            "\u001b[1m11490434/11490434\u001b[0m \u001b[32m━━━━━━━━━━━━━━━━━━━━\u001b[0m\u001b[37m\u001b[0m \u001b[1m0s\u001b[0m 0us/step\n"
          ]
        },
        {
          "output_type": "stream",
          "name": "stderr",
          "text": [
            "/usr/local/lib/python3.11/dist-packages/keras/src/layers/reshaping/flatten.py:37: UserWarning: Do not pass an `input_shape`/`input_dim` argument to a layer. When using Sequential models, prefer using an `Input(shape)` object as the first layer in the model instead.\n",
            "  super().__init__(**kwargs)\n"
          ]
        },
        {
          "output_type": "stream",
          "name": "stdout",
          "text": [
            "Epoch 1/20\n",
            "938/938 - 8s - 9ms/step - accuracy: 0.8376 - loss: 0.6908 - val_accuracy: 0.9189 - val_loss: 0.2898\n",
            "Epoch 2/20\n",
            "938/938 - 9s - 9ms/step - accuracy: 0.9276 - loss: 0.2477 - val_accuracy: 0.9380 - val_loss: 0.2118\n",
            "Epoch 3/20\n",
            "938/938 - 8s - 9ms/step - accuracy: 0.9447 - loss: 0.1872 - val_accuracy: 0.9509 - val_loss: 0.1626\n",
            "Epoch 4/20\n",
            "938/938 - 6s - 6ms/step - accuracy: 0.9557 - loss: 0.1501 - val_accuracy: 0.9573 - val_loss: 0.1409\n",
            "Epoch 5/20\n",
            "938/938 - 5s - 5ms/step - accuracy: 0.9635 - loss: 0.1252 - val_accuracy: 0.9612 - val_loss: 0.1249\n",
            "Epoch 6/20\n",
            "938/938 - 5s - 6ms/step - accuracy: 0.9689 - loss: 0.1070 - val_accuracy: 0.9646 - val_loss: 0.1134\n",
            "Epoch 7/20\n",
            "938/938 - 6s - 6ms/step - accuracy: 0.9725 - loss: 0.0937 - val_accuracy: 0.9699 - val_loss: 0.1027\n",
            "Epoch 8/20\n",
            "938/938 - 4s - 4ms/step - accuracy: 0.9750 - loss: 0.0838 - val_accuracy: 0.9695 - val_loss: 0.0995\n",
            "Epoch 9/20\n",
            "938/938 - 6s - 7ms/step - accuracy: 0.9777 - loss: 0.0755 - val_accuracy: 0.9709 - val_loss: 0.0928\n",
            "Epoch 10/20\n",
            "938/938 - 5s - 5ms/step - accuracy: 0.9793 - loss: 0.0685 - val_accuracy: 0.9736 - val_loss: 0.0883\n",
            "Epoch 11/20\n",
            "938/938 - 3s - 3ms/step - accuracy: 0.9816 - loss: 0.0622 - val_accuracy: 0.9746 - val_loss: 0.0854\n",
            "Epoch 12/20\n",
            "938/938 - 4s - 4ms/step - accuracy: 0.9830 - loss: 0.0570 - val_accuracy: 0.9738 - val_loss: 0.0827\n",
            "Epoch 13/20\n",
            "938/938 - 5s - 5ms/step - accuracy: 0.9844 - loss: 0.0524 - val_accuracy: 0.9725 - val_loss: 0.0901\n",
            "Epoch 14/20\n",
            "938/938 - 3s - 3ms/step - accuracy: 0.9856 - loss: 0.0485 - val_accuracy: 0.9748 - val_loss: 0.0837\n",
            "Epoch 15/20\n",
            "938/938 - 6s - 7ms/step - accuracy: 0.9868 - loss: 0.0452 - val_accuracy: 0.9760 - val_loss: 0.0783\n",
            "Epoch 16/20\n",
            "938/938 - 4s - 5ms/step - accuracy: 0.9881 - loss: 0.0414 - val_accuracy: 0.9768 - val_loss: 0.0794\n",
            "Epoch 17/20\n",
            "938/938 - 5s - 6ms/step - accuracy: 0.9887 - loss: 0.0383 - val_accuracy: 0.9766 - val_loss: 0.0817\n",
            "Epoch 18/20\n",
            "938/938 - 5s - 5ms/step - accuracy: 0.9899 - loss: 0.0357 - val_accuracy: 0.9763 - val_loss: 0.0806\n",
            "Epoch 19/20\n",
            "938/938 - 5s - 5ms/step - accuracy: 0.9909 - loss: 0.0332 - val_accuracy: 0.9777 - val_loss: 0.0809\n",
            "Epoch 20/20\n",
            "938/938 - 6s - 6ms/step - accuracy: 0.9913 - loss: 0.0311 - val_accuracy: 0.9765 - val_loss: 0.0818\n",
            "Training Accuracy: 0.9929\n",
            "Testing Accuracy: 0.9765\n",
            "Architecture [128, 64] - Testing Accuracy: 0.9773\n",
            "Architecture [64, 64, 32] - Testing Accuracy: 0.9730\n",
            "Architecture [128, 128] - Testing Accuracy: 0.9792\n",
            "Architecture [32, 32] - Testing Accuracy: 0.9656\n",
            "Best Architecture: [128, 128] with Testing Accuracy: 0.9792\n"
          ]
        }
      ],
      "source": [
        "import tensorflow as tf\n",
        "from tensorflow import keras\n",
        "from tensorflow.keras.models import Sequential\n",
        "from tensorflow.keras.layers import Dense, Flatten\n",
        "from tensorflow.keras.optimizers import RMSprop\n",
        "from tensorflow.keras.datasets import mnist\n",
        "import numpy as np\n",
        "\n",
        "# Load MNIST dataset\n",
        "(x_train, y_train), (x_test, y_test) = mnist.load_data()\n",
        "\n",
        "# Normalize the images to [0,1] range\n",
        "x_train, x_test = x_train / 255.0, x_test / 255.0\n",
        "\n",
        "# Define the ANN model\n",
        "def build_model(hidden_layers=[64, 64], activation='sigmoid'):\n",
        "    model = Sequential()\n",
        "    model.add(Flatten(input_shape=(28, 28)))\n",
        "\n",
        "    for neurons in hidden_layers:\n",
        "        model.add(Dense(neurons, activation=activation))\n",
        "\n",
        "    model.add(Dense(10, activation='softmax'))  # Output layer\n",
        "\n",
        "    model.compile(optimizer=RMSprop(), loss='sparse_categorical_crossentropy', metrics=['accuracy'])\n",
        "    return model\n",
        "\n",
        "# Initial model with given architecture\n",
        "model = build_model()\n",
        "\n",
        "# Train the model\n",
        "history = model.fit(x_train, y_train, epochs=20, batch_size=64, validation_data=(x_test, y_test), verbose=2)\n",
        "\n",
        "# Evaluate model\n",
        "train_loss, train_acc = model.evaluate(x_train, y_train, verbose=0)\n",
        "test_loss, test_acc = model.evaluate(x_test, y_test, verbose=0)\n",
        "\n",
        "print(f'Training Accuracy: {train_acc:.4f}')\n",
        "print(f'Testing Accuracy: {test_acc:.4f}')\n",
        "\n",
        "# Experimenting with different architectures\n",
        "architectures = [\n",
        "    [128, 64],      # More neurons in first layer\n",
        "    [64, 64, 32],   # Adding another layer\n",
        "    [128, 128],     # More neurons per layer\n",
        "    [32, 32]        # Fewer neurons\n",
        "]\n",
        "\n",
        "best_acc = 0\n",
        "best_architecture = None\n",
        "\n",
        "for arch in architectures:\n",
        "    model = build_model(hidden_layers=arch)\n",
        "    model.fit(x_train, y_train, epochs=20, batch_size=64, verbose=0, validation_data=(x_test, y_test))\n",
        "    _, test_acc = model.evaluate(x_test, y_test, verbose=0)\n",
        "    print(f'Architecture {arch} - Testing Accuracy: {test_acc:.4f}')\n",
        "\n",
        "    if test_acc > best_acc:\n",
        "        best_acc = test_acc\n",
        "        best_architecture = arch\n",
        "\n",
        "print(f'Best Architecture: {best_architecture} with Testing Accuracy: {best_acc:.4f}')\n"
      ]
    }
  ]
}