{
  "nbformat": 4,
  "nbformat_minor": 0,
  "metadata": {
    "colab": {
      "provenance": [],
      "authorship_tag": "ABX9TyMY2o00hZ8QN+EZl4Vghyb1",
      "include_colab_link": true
    },
    "kernelspec": {
      "name": "python3",
      "display_name": "Python 3"
    },
    "language_info": {
      "name": "python"
    }
  },
  "cells": [
    {
      "cell_type": "markdown",
      "metadata": {
        "id": "view-in-github",
        "colab_type": "text"
      },
      "source": [
        "<a href=\"https://colab.research.google.com/github/sindhuparusha225/Gen-AI-2025/blob/main/2303A52207_Week_09_Assignment_9_1.ipynb\" target=\"_parent\"><img src=\"https://colab.research.google.com/assets/colab-badge.svg\" alt=\"Open In Colab\"/></a>"
      ]
    },
    {
      "cell_type": "markdown",
      "source": [
        "1. (1 ponto) Design a multilayer ANN architecture to identify the hand-written digits using the\n",
        "Keras deep learning library. Consider the MNIST data set\n",
        "2. (1 ponto) Calculate the accuracy with training and testing data\n",
        "3. (1 ponto) Also, change the architecture by tuning no. of hidden layers, no. of hidden neurons\n",
        "and activation functions in hidden layer. Identify best architecture in terms of testing accuracy\n",
        "          Tabela 1: ANN Architecture\n",
        "            Layer               Neurons   Activation Function\n",
        "          Hidden Layer - 1       32       relu\n",
        "          Hidden Layer - 2       32       relu\n",
        "          Hidden Layer - 3       32       relu\n",
        "          Tabela 2: Training Parameters\n",
        "          epochs  batch size   error metric    Optimizer\n",
        "          10       128          accuracy       adadelta\n",
        "Dataset: MNIST\n",
        "• Expected learning Outcomes from this assignment related to python\n",
        "– Students are able to build ANN model with python deep learning libraries to classify\n",
        "hand written digits\n",
        "– Students are able to measure training and testing performance of trained model"
      ],
      "metadata": {
        "id": "aCQ6-qrPBek7"
      }
    },
    {
      "cell_type": "code",
      "execution_count": null,
      "metadata": {
        "colab": {
          "base_uri": "https://localhost:8080/"
        },
        "id": "QR66yOKOBd07",
        "outputId": "2bfcb45b-58f9-4388-a1d0-8f3b7d71cb2c"
      },
      "outputs": [
        {
          "output_type": "stream",
          "name": "stdout",
          "text": [
            "Downloading data from https://storage.googleapis.com/tensorflow/tf-keras-datasets/mnist.npz\n",
            "\u001b[1m11490434/11490434\u001b[0m \u001b[32m━━━━━━━━━━━━━━━━━━━━\u001b[0m\u001b[37m\u001b[0m \u001b[1m0s\u001b[0m 0us/step\n"
          ]
        },
        {
          "output_type": "stream",
          "name": "stderr",
          "text": [
            "/usr/local/lib/python3.11/dist-packages/keras/src/layers/reshaping/flatten.py:37: UserWarning: Do not pass an `input_shape`/`input_dim` argument to a layer. When using Sequential models, prefer using an `Input(shape)` object as the first layer in the model instead.\n",
            "  super().__init__(**kwargs)\n"
          ]
        },
        {
          "output_type": "stream",
          "name": "stdout",
          "text": [
            "Epoch 1/10\n",
            "469/469 - 6s - 14ms/step - accuracy: 0.1476 - loss: 2.3124 - val_accuracy: 0.1594 - val_loss: 2.3025\n",
            "Epoch 2/10\n",
            "469/469 - 3s - 6ms/step - accuracy: 0.1648 - loss: 2.2962 - val_accuracy: 0.1785 - val_loss: 2.2864\n",
            "Epoch 3/10\n",
            "469/469 - 4s - 8ms/step - accuracy: 0.1828 - loss: 2.2805 - val_accuracy: 0.1983 - val_loss: 2.2708\n",
            "Epoch 4/10\n",
            "469/469 - 3s - 7ms/step - accuracy: 0.2004 - loss: 2.2653 - val_accuracy: 0.2170 - val_loss: 2.2557\n",
            "Epoch 5/10\n",
            "469/469 - 4s - 8ms/step - accuracy: 0.2189 - loss: 2.2506 - val_accuracy: 0.2349 - val_loss: 2.2410\n",
            "Epoch 6/10\n",
            "469/469 - 2s - 5ms/step - accuracy: 0.2345 - loss: 2.2362 - val_accuracy: 0.2512 - val_loss: 2.2265\n",
            "Epoch 7/10\n",
            "469/469 - 3s - 6ms/step - accuracy: 0.2503 - loss: 2.2218 - val_accuracy: 0.2687 - val_loss: 2.2119\n",
            "Epoch 8/10\n",
            "469/469 - 4s - 9ms/step - accuracy: 0.2662 - loss: 2.2074 - val_accuracy: 0.2835 - val_loss: 2.1973\n",
            "Epoch 9/10\n",
            "469/469 - 3s - 6ms/step - accuracy: 0.2810 - loss: 2.1928 - val_accuracy: 0.3017 - val_loss: 2.1824\n",
            "Epoch 10/10\n",
            "469/469 - 2s - 4ms/step - accuracy: 0.2974 - loss: 2.1779 - val_accuracy: 0.3177 - val_loss: 2.1672\n",
            "Training Accuracy: 0.3044\n",
            "Testing Accuracy: 0.3177\n",
            "Architecture [64, 64] - Testing Accuracy: 0.3900\n",
            "Architecture [128, 64, 32] - Testing Accuracy: 0.5854\n",
            "Architecture [256, 128, 64] - Testing Accuracy: 0.7116\n",
            "Architecture [32, 32] - Testing Accuracy: 0.3096\n",
            "Best Architecture: [256, 128, 64] with Testing Accuracy: 0.7116\n"
          ]
        }
      ],
      "source": [
        "import tensorflow as tf\n",
        "from tensorflow import keras\n",
        "from tensorflow.keras.models import Sequential\n",
        "from tensorflow.keras.layers import Dense, Flatten\n",
        "from tensorflow.keras.optimizers import Adadelta\n",
        "from tensorflow.keras.datasets import mnist\n",
        "import numpy as np\n",
        "\n",
        "# Load MNIST dataset\n",
        "(x_train, y_train), (x_test, y_test) = mnist.load_data()\n",
        "\n",
        "# Normalize the images to [0,1] range\n",
        "x_train, x_test = x_train / 255.0, x_test / 255.0\n",
        "\n",
        "# Define the ANN model\n",
        "def build_model(hidden_layers=[32, 32, 32], activation='relu'):\n",
        "    model = Sequential()\n",
        "    model.add(Flatten(input_shape=(28, 28)))\n",
        "\n",
        "    for neurons in hidden_layers:\n",
        "        model.add(Dense(neurons, activation=activation))\n",
        "\n",
        "    model.add(Dense(10, activation='softmax'))  # Output layer\n",
        "\n",
        "    model.compile(optimizer=Adadelta(), loss='sparse_categorical_crossentropy', metrics=['accuracy'])\n",
        "    return model\n",
        "\n",
        "# Initial model with given architecture\n",
        "model = build_model()\n",
        "\n",
        "# Train the model\n",
        "history = model.fit(x_train, y_train, epochs=10, batch_size=128, validation_data=(x_test, y_test), verbose=2)\n",
        "\n",
        "# Evaluate model\n",
        "train_loss, train_acc = model.evaluate(x_train, y_train, verbose=0)\n",
        "test_loss, test_acc = model.evaluate(x_test, y_test, verbose=0)\n",
        "\n",
        "print(f'Training Accuracy: {train_acc:.4f}')\n",
        "print(f'Testing Accuracy: {test_acc:.4f}')\n",
        "\n",
        "# Experimenting with different architectures\n",
        "architectures = [\n",
        "    [64, 64],       # Fewer layers, more neurons\n",
        "    [128, 64, 32],  # Increasing neurons per layer\n",
        "    [256, 128, 64], # Deep architecture\n",
        "    [32, 32],       # Fewer layers\n",
        "]\n",
        "\n",
        "best_acc = 0\n",
        "best_architecture = None\n",
        "\n",
        "for arch in architectures:\n",
        "    model = build_model(hidden_layers=arch)\n",
        "    model.fit(x_train, y_train, epochs=10, batch_size=128, verbose=0, validation_data=(x_test, y_test))\n",
        "    _, test_acc = model.evaluate(x_test, y_test, verbose=0)\n",
        "    print(f'Architecture {arch} - Testing Accuracy: {test_acc:.4f}')\n",
        "\n",
        "    if test_acc > best_acc:\n",
        "        best_acc = test_acc\n",
        "        best_architecture = arch\n",
        "\n",
        "print(f'Best Architecture: {best_architecture} with Testing Accuracy: {best_acc:.4f}')\n"
      ]
    }
  ]
}